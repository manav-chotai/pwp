{
 "cells": [
  {
   "cell_type": "code",
   "execution_count": null,
   "id": "038cc5d9",
   "metadata": {},
   "outputs": [],
   "source": [
    "# a. Write a Python program to draw a line with suitable label in the x axis, y axis and a title.\n",
    "import matplotlib.pyplot as plt\n",
    "x = [1, 2, 3, 4, 5]\n",
    "y = [2, 4, 6, 8, 10]\n",
    "\n",
    "plt.plot(x, y)\n",
    "plt.xlabel(\"X-axis\")\n",
    "plt.ylabel(\"Y-axis\")\n",
    "plt.title(\"Simple Line Plot\")\n",
    "plt.show()\n",
    "\n",
    "\n",
    "# b. Write a Python program to plot two or more lines on same plot with suitable legends of each line.\n",
    "import matplotlib.pyplot as plt\n",
    "x = [1, 2, 3, 4, 5]\n",
    "y1 = [2, 4, 6, 8, 10]\n",
    "y2 = [1, 3, 5, 7, 9]\n",
    "y3 = [2, 3, 4, 5, 6]\n",
    "\n",
    "plt.plot(x, y1, label=\"Line 1\")\n",
    "plt.plot(x, y2, label=\"Line 2\")\n",
    "plt.plot(x, y3, label=\"Line 3\")\n",
    "\n",
    "plt.xlabel(\"X-axis\")\n",
    "plt.ylabel(\"Y-axis\")\n",
    "plt.title(\"Multiple Lines Plot\")\n",
    "plt.legend()\n",
    "plt.show()\n",
    "\n",
    "\n",
    "# c. Write a Python programming to display a bar chart of the popularity of programming Languages.\n",
    "import matplotlib.pyplot as plt\n",
    "languages = [\"Java\", \"Python\", \"PHP\", \"JavaScript\", \"C#\", \"C++\"]\n",
    "popularity = [22.2, 17.6, 8.8, 8, 7.7, 6.7]\n",
    "\n",
    "plt.bar(languages, popularity)\n",
    "plt.xlabel(\"Programming Languages\")\n",
    "plt.ylabel(\"Popularity (%)\")\n",
    "plt.title(\"Popularity of Programming Languages\")\n",
    "plt.show()\n"
   ]
  }
 ],
 "metadata": {
  "language_info": {
   "name": "python"
  }
 },
 "nbformat": 4,
 "nbformat_minor": 5
}
